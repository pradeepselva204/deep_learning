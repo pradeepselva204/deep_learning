{
  "nbformat": 4,
  "nbformat_minor": 0,
  "metadata": {
    "colab": {
      "name": "Untitled2.ipynb",
      "version": "0.3.2",
      "provenance": [],
      "include_colab_link": true
    },
    "kernelspec": {
      "name": "python3",
      "display_name": "Python 3"
    }
  },
  "cells": [
    {
      "cell_type": "markdown",
      "metadata": {
        "id": "view-in-github",
        "colab_type": "text"
      },
      "source": [
        "<a href=\"https://colab.research.google.com/github/pradeepselva204/deep_learning/blob/master/Basic_python.ipynb\" target=\"_parent\"><img src=\"https://colab.research.google.com/assets/colab-badge.svg\" alt=\"Open In Colab\"/></a>"
      ]
    },
    {
      "metadata": {
        "id": "nhkGgGHbpT3T",
        "colab_type": "text"
      },
      "cell_type": "markdown",
      "source": [
        "**Beginner to Advanced Level Coding**"
      ]
    },
    {
      "metadata": {
        "id": "0psCCiXxpbHI",
        "colab_type": "code",
        "colab": {
          "base_uri": "https://localhost:8080/",
          "height": 34
        },
        "outputId": "3332a11c-e9b8-4f2f-8271-5ada3213b4a6"
      },
      "cell_type": "code",
      "source": [
        "x = \"Beginner Level coding. First try 'print' statement\"\n",
        "print(x)"
      ],
      "execution_count": 1,
      "outputs": [
        {
          "output_type": "stream",
          "text": [
            "Beginner Level coding. First try 'print' statement\n"
          ],
          "name": "stdout"
        }
      ]
    },
    {
      "metadata": {
        "id": "uA0V0hUJpk5G",
        "colab_type": "code",
        "colab": {
          "base_uri": "https://localhost:8080/",
          "height": 34
        },
        "outputId": "1647c996-90a8-4df6-cc45-9d457c15808d"
      },
      "cell_type": "code",
      "source": [
        "# Try to test comment statement.\n",
        "# Working Gr8t\n",
        "\n",
        "# Try to get the type of x\n",
        "\n",
        "type(x)"
      ],
      "execution_count": 2,
      "outputs": [
        {
          "output_type": "execute_result",
          "data": {
            "text/plain": [
              "str"
            ]
          },
          "metadata": {
            "tags": []
          },
          "execution_count": 2
        }
      ]
    },
    {
      "metadata": {
        "id": "3fVf2FjmqkAs",
        "colab_type": "text"
      },
      "cell_type": "markdown",
      "source": [
        "**String format in the Print function**"
      ]
    },
    {
      "metadata": {
        "id": "QY6nK9fKp01f",
        "colab_type": "code",
        "colab": {
          "base_uri": "https://localhost:8080/",
          "height": 34
        },
        "outputId": "adb74746-9f21-4e24-d122-5fc0cb8a36ca"
      },
      "cell_type": "code",
      "source": [
        "# Use format function in the print statement for dynamic variable assignment \n",
        "# where there is a {}\n",
        "github = \"Github\"\n",
        "print(\"This Notebook is saved into {} repository\".format(github))"
      ],
      "execution_count": 4,
      "outputs": [
        {
          "output_type": "stream",
          "text": [
            "This Notebook is saved into Github repository\n"
          ],
          "name": "stdout"
        }
      ]
    },
    {
      "metadata": {
        "id": "oP79OhbWq5Gx",
        "colab_type": "code",
        "colab": {}
      },
      "cell_type": "code",
      "source": [
        ""
      ],
      "execution_count": 0,
      "outputs": []
    }
  ]
}