# To Create a Q  Learning model
# Q Learning is a technique to find an optimized way for an issue
# This involues Stochastic Non-Determinstic search which have a Markov factor.
# Optimizing the Warehose Flow

import numpy as np
# Setting the parameters for the discount gamma and learning rate alpha
gamma = 0.75
alpha = 0.9

# Define the State
location_to_state = {'A': 0,
                     'B': 1,
                     'C': 2,
                     'D': 3,
                     'E': 4,
                     'F': 5,
                     'G': 6,
                     'H': 7,
                     'I': 8,
                     'J': 9,
                     'K': 10,
                     'L': 11 }


# Define Action

actions = [0,1,2,3,4,5,6,7,8,9,10,11]

# Defne Rewards

R = np.array([0,1,0,0,0,0,0,0,0,0,0],
             [1,0,1,0,01,1,0,0,0,0,0,0],
             [],
             [],
             [])
