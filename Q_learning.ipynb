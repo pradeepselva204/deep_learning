# To Create a Q  Learning model
# Q Learning is a technique to find an optimized way for an issue
# This involues Stochastic Non-Determinstic search which have a Markov factor.
