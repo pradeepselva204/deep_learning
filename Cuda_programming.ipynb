{
  "nbformat": 4,
  "nbformat_minor": 0,
  "metadata": {
    "colab": {
      "name": "Untitled0.ipynb",
      "version": "0.3.2",
      "provenance": [],
      "include_colab_link": true
    },
    "kernelspec": {
      "name": "python3",
      "display_name": "Python 3"
    }
  },
  "cells": [
    {
      "cell_type": "markdown",
      "metadata": {
        "id": "view-in-github",
        "colab_type": "text"
      },
      "source": [
        "<a href=\"https://colab.research.google.com/github/pradeepselva204/deep_learning/blob/master/Cuda_programming.ipynb\" target=\"_parent\"><img src=\"https://colab.research.google.com/assets/colab-badge.svg\" alt=\"Open In Colab\"/></a>"
      ]
    },
    {
      "metadata": {
        "id": "u5uqL9GjX38p",
        "colab_type": "code",
        "colab": {}
      },
      "cell_type": "code",
      "source": [
        "from numba import jit\n",
        "import math\n",
        "\n",
        "# This is the function decorator syntax and is equivalent to `hypot = jit(hypot)`.\n",
        "# The Numba compiler is just a function you can call whenever you want!\n",
        "@jit\n",
        "def hypot(x, y):\n",
        "    # Implementation from https://en.wikipedia.org/wiki/Hypot\n",
        "    x = abs(x);\n",
        "    y = abs(y);\n",
        "    t = min(x, y);\n",
        "    x = max(x, y);\n",
        "    t = t / x;\n",
        "    return x * math.sqrt(1+t*t)"
      ],
      "execution_count": 0,
      "outputs": []
    },
    {
      "metadata": {
        "id": "NYNjpy_kgDAF",
        "colab_type": "code",
        "outputId": "0f664666-d733-4991-f4e0-a00808336d33",
        "colab": {
          "base_uri": "https://localhost:8080/",
          "height": 34
        }
      },
      "cell_type": "code",
      "source": [
        "hypot(3.0, 4.0)"
      ],
      "execution_count": 0,
      "outputs": [
        {
          "output_type": "execute_result",
          "data": {
            "text/plain": [
              "5.0"
            ]
          },
          "metadata": {
            "tags": []
          },
          "execution_count": 2
        }
      ]
    },
    {
      "metadata": {
        "id": "KoOfzI0KgHBL",
        "colab_type": "code",
        "outputId": "0019a79f-b04d-4368-a1a2-8f77ed696e82",
        "colab": {
          "base_uri": "https://localhost:8080/",
          "height": 34
        }
      },
      "cell_type": "code",
      "source": [
        "hypot.py_func(3.0, 4.0)"
      ],
      "execution_count": 0,
      "outputs": [
        {
          "output_type": "execute_result",
          "data": {
            "text/plain": [
              "5.0"
            ]
          },
          "metadata": {
            "tags": []
          },
          "execution_count": 3
        }
      ]
    },
    {
      "metadata": {
        "id": "L1r2TdDfgNLt",
        "colab_type": "code",
        "outputId": "f4599cbd-d4ef-494a-9301-9d8f46c3ab4b",
        "colab": {
          "base_uri": "https://localhost:8080/",
          "height": 51
        }
      },
      "cell_type": "code",
      "source": [
        "%timeit hypot.py_func(3.0, 4.0)"
      ],
      "execution_count": 0,
      "outputs": [
        {
          "output_type": "stream",
          "text": [
            "The slowest run took 17.01 times longer than the fastest. This could mean that an intermediate result is being cached.\n",
            "1000000 loops, best of 3: 851 ns per loop\n"
          ],
          "name": "stdout"
        }
      ]
    },
    {
      "metadata": {
        "id": "j4PxdsylgRTk",
        "colab_type": "code",
        "outputId": "fb0701f8-393b-4006-8947-6560f303fc02",
        "colab": {
          "base_uri": "https://localhost:8080/",
          "height": 51
        }
      },
      "cell_type": "code",
      "source": [
        "%timeit hypot(3.0, 4.0)"
      ],
      "execution_count": 0,
      "outputs": [
        {
          "output_type": "stream",
          "text": [
            "The slowest run took 37.41 times longer than the fastest. This could mean that an intermediate result is being cached.\n",
            "1000000 loops, best of 3: 254 ns per loop\n"
          ],
          "name": "stdout"
        }
      ]
    },
    {
      "metadata": {
        "id": "GjHAxqKogXHL",
        "colab_type": "code",
        "outputId": "f8974ce5-6f0c-4647-88d3-93127b90a97f",
        "colab": {
          "base_uri": "https://localhost:8080/",
          "height": 51
        }
      },
      "cell_type": "code",
      "source": [
        "%timeit math.hypot(3.0, 4.0)"
      ],
      "execution_count": 0,
      "outputs": [
        {
          "output_type": "stream",
          "text": [
            "The slowest run took 171.45 times longer than the fastest. This could mean that an intermediate result is being cached.\n",
            "10000000 loops, best of 3: 152 ns per loop\n"
          ],
          "name": "stdout"
        }
      ]
    },
    {
      "metadata": {
        "id": "CpePqRMzkOFx",
        "colab_type": "text"
      },
      "cell_type": "markdown",
      "source": [
        "**                                                                To Test Numba Functionality**"
      ]
    },
    {
      "metadata": {
        "id": "Yhy9La2XjGyD",
        "colab_type": "code",
        "colab": {}
      },
      "cell_type": "code",
      "source": [
        "nsamples = 1000000\n",
        "# TODO: Import Numba's just-in-time compiler function\n",
        "from numba import jit\n",
        "import random\n",
        "\n",
        "# TODO: Use the Numba compiler to compile this function\n",
        "@jit\n",
        "def monte_carlo_pi(nsamples):\n",
        "    acc = 0\n",
        "    for i in range(nsamples):\n",
        "        x = random.random()\n",
        "        y = random.random()\n",
        "        if (x**2 + y**2) < 1.0:\n",
        "            acc += 1\n",
        "    return 4.0 * acc / nsamples"
      ],
      "execution_count": 0,
      "outputs": []
    },
    {
      "metadata": {
        "id": "rAjFd4wEjS0Y",
        "colab_type": "code",
        "colab": {}
      },
      "cell_type": "code",
      "source": [
        "# We will use numpy's `testing` library to confirm compiled and uncompiled versions run the same\n",
        "from numpy import testing\n",
        "\n",
        "# This assertion will fail until you successfully complete the exercise one cell above\n",
        "testing.assert_almost_equal(monte_carlo_pi(nsamples), monte_carlo_pi.py_func(nsamples), decimal=2)"
      ],
      "execution_count": 0,
      "outputs": []
    },
    {
      "metadata": {
        "id": "xUGtQvsbjToh",
        "colab_type": "code",
        "colab": {
          "base_uri": "https://localhost:8080/",
          "height": 34
        },
        "outputId": "bee4b381-adc4-4fc8-a17d-40e33e3bcb9e"
      },
      "cell_type": "code",
      "source": [
        "%timeit monte_carlo_pi(nsamples)"
      ],
      "execution_count": 9,
      "outputs": [
        {
          "output_type": "stream",
          "text": [
            "100 loops, best of 3: 13.3 ms per loop\n"
          ],
          "name": "stdout"
        }
      ]
    },
    {
      "metadata": {
        "id": "Q7JRXb7pjVYJ",
        "colab_type": "code",
        "colab": {
          "base_uri": "https://localhost:8080/",
          "height": 34
        },
        "outputId": "e04c0f44-cbca-47a2-a6b5-afd764452acf"
      },
      "cell_type": "code",
      "source": [
        "%timeit monte_carlo_pi.py_func(nsamples)"
      ],
      "execution_count": 10,
      "outputs": [
        {
          "output_type": "stream",
          "text": [
            "1 loop, best of 3: 408 ms per loop\n"
          ],
          "name": "stdout"
        }
      ]
    }
  ]
}